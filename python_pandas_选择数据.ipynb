{
 "cells": [
  {
   "cell_type": "code",
   "execution_count": 8,
   "metadata": {
    "collapsed": false
   },
   "outputs": [
    {
     "name": "stdout",
     "output_type": "stream",
     "text": [
      "             A   B   C   D\n",
      "2018-01-01   0   1   2   3\n",
      "2018-01-02   4   5   6   7\n",
      "2018-01-03   8   9  10  11\n",
      "2018-01-04  12  13  14  15\n",
      "2018-01-05  16  17  18  19\n",
      "2018-01-06  20  21  22  23\n",
      "2018-01-01     0\n",
      "2018-01-02     4\n",
      "2018-01-03     8\n",
      "2018-01-04    12\n",
      "2018-01-05    16\n",
      "2018-01-06    20\n",
      "Freq: D, Name: A, dtype: int32\n",
      "2018-01-01     0\n",
      "2018-01-02     4\n",
      "2018-01-03     8\n",
      "2018-01-04    12\n",
      "2018-01-05    16\n",
      "2018-01-06    20\n",
      "Freq: D, Name: A, dtype: int32\n"
     ]
    }
   ],
   "source": [
    "import pandas as pd\n",
    "import numpy as np\n",
    "\n",
    "dates = pd.date_range('20180101',periods=6)\n",
    "df = pd.DataFrame(np.arange(24).reshape((6,4)),index=dates,columns=['A','B','C','D'])\n",
    "print(df)\n",
    "#选择列\n",
    "print(df['A'])#选择列\n",
    "print(df.A)#选择列"
   ]
  },
  {
   "cell_type": "code",
   "execution_count": 10,
   "metadata": {
    "collapsed": false
   },
   "outputs": [
    {
     "name": "stdout",
     "output_type": "stream",
     "text": [
      "            A  B   C   D\n",
      "2018-01-01  0  1   2   3\n",
      "2018-01-02  4  5   6   7\n",
      "2018-01-03  8  9  10  11\n",
      "            A  B   C   D\n",
      "2018-01-01  0  1   2   3\n",
      "2018-01-02  4  5   6   7\n",
      "2018-01-03  8  9  10  11\n"
     ]
    }
   ],
   "source": [
    "#选择行 \n",
    "print(df[0:3])#选择多行 df[0:3] 0-3行\n",
    "print(df['20180101':'20180103'])#选择行 按照行名"
   ]
  },
  {
   "cell_type": "code",
   "execution_count": 17,
   "metadata": {
    "collapsed": false
   },
   "outputs": [
    {
     "name": "stdout",
     "output_type": "stream",
     "text": [
      "1\n"
     ]
    }
   ],
   "source": [
    "#loc按行列标签来筛选\n",
    "#print(df.loc['20180101']) #loc使用标签选择某一行\n",
    "#print(df.loc[:,'A':'C']) #loc[:,'列名']也可以选多列 ：代表所有行\n",
    "print(df.loc['20180101','B'])#loc['行','列']"
   ]
  },
  {
   "cell_type": "code",
   "execution_count": 36,
   "metadata": {
    "collapsed": false
   },
   "outputs": [
    {
     "name": "stdout",
     "output_type": "stream",
     "text": [
      "             B   C\n",
      "2018-01-04  13  14\n",
      "2018-01-05  17  18\n",
      "             B   C\n",
      "2018-01-02   5   6\n",
      "2018-01-04  13  14\n",
      "2018-01-06  21  22\n"
     ]
    }
   ],
   "source": [
    "#iloc按元素位置来筛选 可跨行 可指定行\n",
    "#print(df.iloc[3,:])\n",
    "#print(df.iloc[3,1]) #iloc通过位置筛选\n",
    "print(df.iloc[3:5,1:3])\n",
    "print(df.iloc[[1,3,5],1:3])"
   ]
  },
  {
   "cell_type": "code",
   "execution_count": 33,
   "metadata": {
    "collapsed": false
   },
   "outputs": [
    {
     "name": "stdout",
     "output_type": "stream",
     "text": [
      "            A   C\n",
      "2018-01-01  0   2\n",
      "2018-01-02  4   6\n",
      "2018-01-03  8  10\n"
     ]
    }
   ],
   "source": [
    "#ix 把标签和位置混合起来\n",
    "print(df.ix[:3,['A','C']])"
   ]
  },
  {
   "cell_type": "code",
   "execution_count": 34,
   "metadata": {
    "collapsed": false
   },
   "outputs": [
    {
     "name": "stdout",
     "output_type": "stream",
     "text": [
      "            A  B  C  D\n",
      "2018-01-01  0  1  2  3\n",
      "2018-01-02  4  5  6  7\n",
      "             A   B   C   D\n",
      "2018-01-04  12  13  14  15\n",
      "2018-01-05  16  17  18  19\n",
      "2018-01-06  20  21  22  23\n"
     ]
    }
   ],
   "source": [
    "#通过判断筛选\n",
    "print(df[df.A<8])\n",
    "print(df[df.B>9])\n",
    "#print(df[df>9])"
   ]
  },
  {
   "cell_type": "code",
   "execution_count": null,
   "metadata": {
    "collapsed": true
   },
   "outputs": [],
   "source": []
  }
 ],
 "metadata": {
  "anaconda-cloud": {},
  "kernelspec": {
   "display_name": "Python [conda root]",
   "language": "python",
   "name": "conda-root-py"
  },
  "language_info": {
   "codemirror_mode": {
    "name": "ipython",
    "version": 3
   },
   "file_extension": ".py",
   "mimetype": "text/x-python",
   "name": "python",
   "nbconvert_exporter": "python",
   "pygments_lexer": "ipython3",
   "version": "3.5.2"
  }
 },
 "nbformat": 4,
 "nbformat_minor": 1
}
