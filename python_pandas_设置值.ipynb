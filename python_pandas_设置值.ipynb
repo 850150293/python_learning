{
 "cells": [
  {
   "cell_type": "code",
   "execution_count": 2,
   "metadata": {
    "collapsed": false
   },
   "outputs": [
    {
     "name": "stdout",
     "output_type": "stream",
     "text": [
      "             A   B   C   D\n",
      "2018-08-01   0   1   2   3\n",
      "2018-08-02   4   5   6   7\n",
      "2018-08-03   8   9  10  11\n",
      "2018-08-04  12  13  14  15\n",
      "2018-08-05  16  17  18  19\n",
      "2018-08-06  20  21  22  23\n"
     ]
    }
   ],
   "source": [
    "#Series 一维 DataFrame二维\n",
    "import pandas as pd\n",
    "import numpy as np\n",
    "\n",
    "dates = pd.date_range('20180801',periods=6)\n",
    "df = pd.DataFrame(np.arange(24).reshape((6,4)),index=dates,columns=['A','B','C','D'])\n",
    "print(df)"
   ]
  },
  {
   "cell_type": "code",
   "execution_count": 17,
   "metadata": {
    "collapsed": false
   },
   "outputs": [
    {
     "name": "stdout",
     "output_type": "stream",
     "text": [
      "             A   B   C   D\n",
      "2018-08-01   0   1   2   3\n",
      "2018-08-02   4   5   6   7\n",
      "2018-08-03   8   9  10  11\n",
      "2018-08-04  12  13  14  15\n",
      "2018-08-05  16  17  18  19\n",
      "2018-08-06  20  21  22  23\n",
      "             A     B   C   D\n",
      "2018-08-01   0     1   2   3\n",
      "2018-08-02   4     5   6   7\n",
      "2018-08-03   8  2222  10  11\n",
      "2018-08-04  12    13  14  15\n",
      "2018-08-05  16    17  18  19\n",
      "2018-08-06  20    21  22  23\n",
      "               A     B   C   D\n",
      "2018-08-01  2222     1   2   3\n",
      "2018-08-02     4     5   6   7\n",
      "2018-08-03     8  2222  10  11\n",
      "2018-08-04    12    13  14  15\n",
      "2018-08-05    16    17  18  19\n",
      "2018-08-06    20    21  22  23\n",
      "               A     B     C   D\n",
      "2018-08-01  2222     1     2   3\n",
      "2018-08-02     4     5  2222   7\n",
      "2018-08-03     8  2222    10  11\n",
      "2018-08-04    12    13    14  15\n",
      "2018-08-05    16    17    18  19\n",
      "2018-08-06    20    21    22  23\n"
     ]
    }
   ],
   "source": [
    "import pandas as pd\n",
    "import numpy as np\n",
    "\n",
    "dates = pd.date_range('20180801',periods=6)\n",
    "df = pd.DataFrame(np.arange(24).reshape((6,4)),index=dates,columns=['A','B','C','D'])\n",
    "print(df)\n",
    "#根据loc和iloc设置值\n",
    "df.iloc[2,1] = 2222\n",
    "print(df)\n",
    "df.loc['20180801','A'] = 2222\n",
    "print(df)\n",
    "df.ix[1,'C'] = 2222\n",
    "print(df)"
   ]
  },
  {
   "cell_type": "code",
   "execution_count": 20,
   "metadata": {
    "collapsed": false
   },
   "outputs": [
    {
     "name": "stdout",
     "output_type": "stream",
     "text": [
      "               A  B     C   D\n",
      "2018-08-01  2222  0     2   3\n",
      "2018-08-02     4  5  2222   7\n",
      "2018-08-03     8  0    10  11\n",
      "2018-08-04    12  0    14  15\n",
      "2018-08-05    16  0    18  19\n",
      "2018-08-06    20  0    22  23\n",
      "               A  B     C   D\n",
      "2018-08-01  2222  0     0   3\n",
      "2018-08-02     4  5  2222   7\n",
      "2018-08-03     8  0    10  11\n",
      "2018-08-04    12  0    14  15\n",
      "2018-08-05    16  0    18  19\n",
      "2018-08-06    20  0    22  23\n"
     ]
    }
   ],
   "source": [
    "#根据条件设置\n",
    "df.B[df.A>4] = 0 #df.B想要更改B列 更改的位置取决于后面的条件,条件是A>4的位置，满足条件置为0\n",
    "print(df)\n",
    "df.C[df.A>20] = 0 #满足条件的为c列的第一行\n",
    "print(df)"
   ]
  },
  {
   "cell_type": "code",
   "execution_count": 21,
   "metadata": {
    "collapsed": false
   },
   "outputs": [
    {
     "name": "stdout",
     "output_type": "stream",
     "text": [
      "               A  B     C   D   F\n",
      "2018-08-01  2222  0     0   3 NaN\n",
      "2018-08-02     4  5  2222   7 NaN\n",
      "2018-08-03     8  0    10  11 NaN\n",
      "2018-08-04    12  0    14  15 NaN\n",
      "2018-08-05    16  0    18  19 NaN\n",
      "2018-08-06    20  0    22  23 NaN\n"
     ]
    }
   ],
   "source": [
    "#对整行或整列做批处理\n",
    "df['F'] = np.nan #加上一列\n",
    "print(df)"
   ]
  },
  {
   "cell_type": "code",
   "execution_count": 22,
   "metadata": {
    "collapsed": false
   },
   "outputs": [
    {
     "name": "stdout",
     "output_type": "stream",
     "text": [
      "               A  B     C   D   F  E\n",
      "2018-08-01  2222  0     0   3 NaN  1\n",
      "2018-08-02     4  5  2222   7 NaN  2\n",
      "2018-08-03     8  0    10  11 NaN  3\n",
      "2018-08-04    12  0    14  15 NaN  4\n",
      "2018-08-05    16  0    18  19 NaN  5\n",
      "2018-08-06    20  0    22  23 NaN  6\n"
     ]
    }
   ],
   "source": [
    "df['E'] = pd.Series([1,2,3,4,5,6],index=pd.date_range('20180801',periods=6)) #长度必须对齐\n",
    "print(df)"
   ]
  },
  {
   "cell_type": "code",
   "execution_count": null,
   "metadata": {
    "collapsed": true
   },
   "outputs": [],
   "source": []
  }
 ],
 "metadata": {
  "anaconda-cloud": {},
  "kernelspec": {
   "display_name": "Python [conda root]",
   "language": "python",
   "name": "conda-root-py"
  },
  "language_info": {
   "codemirror_mode": {
    "name": "ipython",
    "version": 3
   },
   "file_extension": ".py",
   "mimetype": "text/x-python",
   "name": "python",
   "nbconvert_exporter": "python",
   "pygments_lexer": "ipython3",
   "version": "3.5.2"
  }
 },
 "nbformat": 4,
 "nbformat_minor": 1
}
